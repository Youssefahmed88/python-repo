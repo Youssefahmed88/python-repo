{
 "cells": [
  {
   "attachments": {},
   "cell_type": "markdown",
   "metadata": {},
   "source": [
    "### print string"
   ]
  },
  {
   "cell_type": "code",
   "execution_count": null,
   "metadata": {},
   "outputs": [],
   "source": [
    "a=\"Hello, World\"\n",
    "print(a[0:])                                          \n",
    "print(a[-1], len(a))\n",
    "print(a[0::2]) #last parameter sign to steps"
   ]
  },
  {
   "attachments": {},
   "cell_type": "markdown",
   "metadata": {},
   "source": [
    "### spaces, end lines"
   ]
  },
  {
   "cell_type": "code",
   "execution_count": null,
   "metadata": {},
   "outputs": [],
   "source": [
    "print('i', end=' ')    \n",
    "print('Love', end='*')\n",
    "print(\"Python\")\n",
    "print('i')                                            \n",
    "print('Love')\n",
    "print(\"Python\")\n",
    "print('I', 'Love', 'python', sep=' ')"
   ]
  },
  {
   "attachments": {},
   "cell_type": "markdown",
   "metadata": {},
   "source": [
    "### Casting && operators"
   ]
  },
  {
   "cell_type": "code",
   "execution_count": null,
   "metadata": {},
   "outputs": [],
   "source": [
    "print('\\\"\\\"')\n",
    "\n",
    "print(5/2)      #2.5\n",
    "print(5//2)     #2\n",
    "print(2**3)     #pow(2,3) = 8\n",
    "x=5\n",
    "print(x)\n",
    "x=float(x)      #casting\n",
    "print(x)"
   ]
  },
  {
   "attachments": {},
   "cell_type": "markdown",
   "metadata": {},
   "source": [
    "### Some of function's string"
   ]
  },
  {
   "cell_type": "code",
   "execution_count": null,
   "metadata": {},
   "outputs": [],
   "source": [
    "s='hello'\n",
    "print(s.lstrip())           #erase white spaces in the begining\n",
    "print(s.strip())            #erase all white spaces \n",
    "print(s.lstrip('h'))        #erase first element\n",
    "\n",
    "##///////////////////////  ##For loop\n",
    "x=eval(input('enter your grade\\n'))\n",
    "if (x >= 90 and x <= 100):\n",
    "    print('A')\n",
    "elif x <90 and x >=80:\n",
    "    print('B')\n",
    "elif not x>=80:\n",
    "    print('x is smaler than 80')"
   ]
  },
  {
   "attachments": {},
   "cell_type": "markdown",
   "metadata": {},
   "source": [
    "### looping"
   ]
  },
  {
   "cell_type": "code",
   "execution_count": null,
   "metadata": {},
   "outputs": [],
   "source": [
    "for i in range(5):              \n",
    "    print('Hello',i)\n",
    "print()\n",
    "for i in 'hello':\n",
    "    print(i, end=' ')      \n",
    "print()\n",
    "for i in range(1,7):\n",
    "    print(i, end=' ')\n",
    "print()\n",
    "for i in range(10,0,-1):\n",
    "    print(i,end=' ')\n",
    "print('\\n')\n",
    "x=5 \n",
    "while x > 0:                  ##while loop \n",
    "    print(x, end=' ')\n",
    "    x -=1\n",
    "print('\\nDone')\n",
    "\n",
    "x=eval(input('enter number\\n'))    ## input integer, casting it to string and print len()\n",
    "print(len(str(x)))"
   ]
  },
  {
   "attachments": {},
   "cell_type": "markdown",
   "metadata": {},
   "source": [
    "### Factorial"
   ]
  },
  {
   "cell_type": "code",
   "execution_count": null,
   "metadata": {},
   "outputs": [],
   "source": [
    "fact=1                        ##Factorial\n",
    "for i in range(1,x+1):\n",
    "    fact *=i\n",
    "print(fact)"
   ]
  },
  {
   "cell_type": "code",
   "execution_count": null,
   "metadata": {},
   "outputs": [],
   "source": [
    "num1 = int(input('Enter 1st number: '))\n",
    "num2 = int(input('Enter 2nd number: '))\n",
    "num3 = int(input('Enter 3rd number: '))\n",
    "x = str(num1) + str(num2) + str(num3)\n",
    "x=int(x)+2\n",
    "print(x)"
   ]
  },
  {
   "cell_type": "code",
   "execution_count": null,
   "metadata": {},
   "outputs": [],
   "source": [
    "##program ask to print all factors of the number \n",
    "\n",
    "num=int(input('enter num\\n'))\n",
    "for i in range(1, num+1):          \n",
    "    if num % i==0:\n",
    "        print(i, end=' ')"
   ]
  },
  {
   "attachments": {},
   "cell_type": "markdown",
   "metadata": {},
   "source": [
    "### Fibonacci series"
   ]
  },
  {
   "cell_type": "code",
   "execution_count": null,
   "metadata": {},
   "outputs": [],
   "source": [
    "x=int(input('enter x\\n'))\n",
    "n1=0\n",
    "n2=1\n",
    "if x==1:\n",
    "    print(n1)\n",
    "else:\n",
    "    print(n1, n2, end=' ')\n",
    "\n",
    "for i in range(2, x+1):\n",
    "    n3=n1+n2\n",
    "    print(n3, end=' ')\n",
    "    n1=n2\n",
    "    n2=n3"
   ]
  },
  {
   "attachments": {},
   "cell_type": "markdown",
   "metadata": {},
   "source": [
    "#### program ask to print all factors of the number with function"
   ]
  },
  {
   "cell_type": "code",
   "execution_count": null,
   "metadata": {},
   "outputs": [],
   "source": [
    "##program ask to print all factors of the number with function\n",
    "def fun(num):\n",
    "    print('the factors of', num,'are:')\n",
    "    for i in range(1, num+1):\n",
    "        if num % i==0:\n",
    "            print(i)\n",
    "\n",
    "x=eval(input('enter the number\\n'))\n",
    "fun(x)"
   ]
  },
  {
   "attachments": {},
   "cell_type": "markdown",
   "metadata": {},
   "source": [
    "### list"
   ]
  },
  {
   "cell_type": "code",
   "execution_count": null,
   "metadata": {},
   "outputs": [],
   "source": [
    "list=[1,2.3,3,'Computer Science']  ##list take ant data type\n",
    "\n",
    "if 4.7 in list:\n",
    "    print('true')\n",
    "else if 4.7 not in list:\n",
    "    print('false')\n",
    "\n",
    "for i in range(len(list)):\n",
    "    print(list[i], end=' ')\n",
    "\n",
    "list *=2                     ##this line mean the list1 will be repeated twice\n",
    "print('\\n',list)\n",
    "\n",
    "print(list[0:2])"
   ]
  },
  {
   "attachments": {},
   "cell_type": "markdown",
   "metadata": {},
   "source": [
    "### Tuple"
   ]
  },
  {
   "cell_type": "code",
   "execution_count": null,
   "metadata": {},
   "outputs": [],
   "source": [
    "my_tuple=('Youssef', 'Developer')     ##Tuple is immutable,however there is one way to add items to tuple:\n",
    "y=('pentester',)\n",
    "my_tuple +=y        \n",
    "print(my_tuple)\n",
    "\n",
    "list1=list(my_tuple)                 ##to convert from tuple to list by command list()\n",
    "print(list1)"
   ]
  },
  {
   "attachments": {},
   "cell_type": "markdown",
   "metadata": {},
   "source": [
    "### Dictionary"
   ]
  },
  {
   "cell_type": "code",
   "execution_count": null,
   "metadata": {},
   "outputs": [],
   "source": [
    "phonebook={'Mazen':'225511229', 'Youssef':'22511229', 1:15}     ##dictionary has two parts: key,value key isn't repeatable \n",
    "if 'Mazen' in phonebook:                        ##in, not in are key words\n",
    "    del phonebook['Mazen']\n",
    "elif 'zein' not in phonebook:\n",
    "    print('not found')\n",
    "print(phonebook)               ##print phonebook with brackets\n",
    "print(*phonebook, *phonebook.values())    ##print all keys and all values\n",
    "for key,value in phonebook.items():       \n",
    "    print(key,value,sep=':')          ##print key to value"
   ]
  },
  {
   "attachments": {},
   "cell_type": "markdown",
   "metadata": {},
   "source": [
    "### sets"
   ]
  },
  {
   "cell_type": "code",
   "execution_count": null,
   "metadata": {},
   "outputs": [],
   "source": [
    "set1=set([5,3,7,2,1])\n",
    "set2=set([5,3,9,8])\n",
    "set1.add(10)\n",
    "set1.update([2,13,15,19])\n",
    "set1.remove(19)\n",
    "set1.discard(15)\n",
    "set3=set1|set2          ##union\n",
    "set3=set1.union(set2)   \n",
    "set4=set1.intersection(set2)    ##intersection\n",
    "\n",
    "print(*set1)     ##to print it without brackets\n",
    "print(set1)      ##to print it with brackets\n",
    "print(set3,set4)"
   ]
  },
  {
   "attachments": {},
   "cell_type": "markdown",
   "metadata": {},
   "source": [
    "#### program calculates sum and average of list"
   ]
  },
  {
   "cell_type": "code",
   "execution_count": null,
   "metadata": {},
   "outputs": [],
   "source": [
    "n=int(input('enter array size\\n'))   ##take size of the list\n",
    "list1=[]       ##initialize empty list\n",
    "for i in range(n):\n",
    "    item=int(input('enter the items of array\\n'))   \n",
    "    list1.append(item)              #add the item to the list\n",
    "sum=0\n",
    "for i in range(len(list1)):\n",
    "    sum +=list1[i]\n",
    "print('Sum:',sum,'Average:', sum/len(list1))"
   ]
  },
  {
   "attachments": {},
   "cell_type": "markdown",
   "metadata": {},
   "source": [
    "### Function"
   ]
  },
  {
   "cell_type": "code",
   "execution_count": null,
   "metadata": {},
   "outputs": [],
   "source": [
    "def area(a,b):\n",
    "    print('Triangle\\'s Area',.5*a*b)\n",
    "x=eval(input('Enter the dimensions of Triangle\\n'))\n",
    "y=eval(input())\n",
    "area(x,y)"
   ]
  },
  {
   "attachments": {},
   "cell_type": "markdown",
   "metadata": {},
   "source": [
    "### recursion"
   ]
  },
  {
   "cell_type": "code",
   "execution_count": null,
   "metadata": {},
   "outputs": [],
   "source": [
    "def recursion(num):                  ##  num=4 \n",
    "    if num==0:                       ##  4*rec(3)\n",
    "        return 1                     ##  4*3*rec(2)  \n",
    "    else:                            ##  4*3*2*rec(1)\n",
    "        return num*recursion(num-1)  ##  4*3*2*1*rec(0)\n",
    "x=eval(input('enter number\\n'))      ##  4*3*2*1*1\n",
    "print(recursion(x))"
   ]
  },
  {
   "cell_type": "code",
   "execution_count": null,
   "metadata": {},
   "outputs": [],
   "source": [
    "##recursion program to check if the word is palindrome or not\n",
    "def palindrom(word):                    ## word=racecar\n",
    "    if len(word) < 2:                   ## w[0]=r  w[-1]=r  1       word=racecar\n",
    "        return True                     ## w[0]=a  w[-1]=a  2       word=aceca\n",
    "    elif word[0]==word[-1]:             ## w[0]=c  w[-1]=c  3       word=cec\n",
    "        return palindrom(word[1:-1])    ## w[0]=e  w[-1]=e  4       word=e\n",
    "    else:                               ## length of word is smaller than 2, then the end function\n",
    "        return False\n",
    "name=input('enter the word\\n')\n",
    "print(palindrom(name))"
   ]
  },
  {
   "cell_type": "code",
   "execution_count": null,
   "metadata": {},
   "outputs": [],
   "source": [
    "list1=[i for i in range(3)]       ##list comprehintion\n",
    "print(list1)\n",
    "list1=[i**2 for i in range(3)]\n",
    "print(list1)"
   ]
  },
  {
   "cell_type": "code",
   "execution_count": null,
   "metadata": {},
   "outputs": [],
   "source": [
    "x=2.66666666666\n",
    "print(format(x, '.2f'))   ##round"
   ]
  },
  {
   "attachments": {},
   "cell_type": "markdown",
   "metadata": {},
   "source": [
    "### opening a file"
   ]
  },
  {
   "cell_type": "code",
   "execution_count": null,
   "metadata": {},
   "outputs": [],
   "source": [
    "##opening a file\n",
    "file1=open(r'path\\'s file','r')     ##to read file                        \n",
    "file1.readline() \n",
    "file1.close()\n",
    "\n",
    "file1=open(r'path\\'s file','w')     ##to delete and rewrite the file \n",
    "file1.write()    \n",
    "file1.close()\n",
    "\n",
    "file1=open(r'path\\'s file','a')     ##to append on the file                \n",
    "file1.write()    \n",
    "file1.close()\n"
   ]
  },
  {
   "cell_type": "code",
   "execution_count": null,
   "metadata": {},
   "outputs": [],
   "source": [
    "print(0b101)   ##binary\n",
    "print(0x1)     ##hexadicimal\n",
    "print(0o10)    ##octal"
   ]
  },
  {
   "attachments": {},
   "cell_type": "markdown",
   "metadata": {},
   "source": [
    "## Object-Orianted programming (OOP)"
   ]
  },
  {
   "cell_type": "code",
   "execution_count": null,
   "metadata": {},
   "outputs": [],
   "source": [
    "##Coin Project\n",
    "import random\n",
    "class Coin:                  ##create class\n",
    "\n",
    "    sideup='Heads'           ## data attribute\n",
    "    def __inti__(self):         ##constructor function to initialize the sideup data attribute\n",
    "        self.sideup='Heads'\n",
    "\n",
    "    def toss(self):                ##method  function to toss the coin\n",
    "        if random.randint(0,1)==0:\n",
    "            self.sideup='Heads'\n",
    "        else:\n",
    "            self.sideup='Tails'\n",
    "\n",
    "    def get_sideup(self):          ##accessor  function to return the value of sideup\n",
    "        return self.sideup\n",
    "\n",
    "##call the main function\n",
    "my_coin=Coin()                                   ##create object\n",
    "print('this sideup is', my_coin.get_sideup())    ##call method\n",
    "my_coin.toss()                                 \n",
    "print('this sideup is', my_coin.get_sideup())\n"
   ]
  },
  {
   "attachments": {},
   "cell_type": "markdown",
   "metadata": {},
   "source": [
    "## Private attributes"
   ]
  },
  {
   "cell_type": "code",
   "execution_count": null,
   "metadata": {},
   "outputs": [],
   "source": [
    "class Vehicle:\n",
    "    def __init__(self, spead, price, mileage):   ##constructor function || method to initialize the attributes\n",
    "\n",
    "        self.spead=spead                         ##public attribute\n",
    "        self.price=price                         ##public attribute\n",
    "\n",
    "        self.__mileage=mileage                   ##private attribute\n",
    "\n",
    "    def get_mileage(self):        ##accessor function to access || geter function to get\n",
    "        return self.__mileage    \n",
    "       \n",
    "modelx=Vehicle(200,500,18)    ##create object \n",
    "\n",
    "modelx.spead=350              ##change the value of public attribute\n",
    "modelx.price=25000\n",
    "\n",
    "modelx.mileage=20             ##error because it's private attribute\n",
    "\n",
    "print('Spead:', modelx.spead)\n",
    "print('Price:', modelx.price)\n",
    "print('Mileage:', modelx.get_mileage())\n",
    "print(modelx)   ##print the state(address) of the object"
   ]
  },
  {
   "attachments": {},
   "cell_type": "markdown",
   "metadata": {},
   "source": [
    "## Inheritance"
   ]
  },
  {
   "cell_type": "code",
   "execution_count": null,
   "metadata": {},
   "outputs": [],
   "source": [
    "class Animal:\n",
    "\n",
    "    def __init__(self, name, age):\n",
    "        self.name=name\n",
    "        self.age=age\n",
    "\n",
    "    def get(self):\n",
    "        return f'\\nName: {self.name}\\nAge: {self.age}'\n",
    "\n",
    "class Dog(Animal):\n",
    "\n",
    "    def __init__(self, name, age, bread):\n",
    "        super().__init__(name, age)\n",
    "        self.__bread=bread\n",
    "\n",
    "    def get_bread(self):\n",
    "        return self.__bread\n",
    "\n",
    "class Cat(Animal):\n",
    "\n",
    "    def __init__(self, name, age, color):\n",
    "        super().__init__(name, age)\n",
    "        self.__color=color\n",
    "\n",
    "    def get_color(self):\n",
    "        return self.__color\n",
    "\n",
    "dog1=Dog('Dog', 6, 'Sephered')\n",
    "cat1=Cat('cat', 2, 'White')\n",
    "\n",
    "print(dog1.get(), cat1.get())\n",
    "\n",
    "print('bread:',dog1.get_bread())\n",
    "print('color:', cat1.get_color())"
   ]
  },
  {
   "attachments": {},
   "cell_type": "markdown",
   "metadata": {},
   "source": [
    "## Grphical User Interface (GUI)"
   ]
  },
  {
   "cell_type": "code",
   "execution_count": null,
   "metadata": {},
   "outputs": [],
   "source": [
    "import tkinter\n",
    "class GUI:\n",
    "\n",
    "    ##constructor function\n",
    "    def __init__(self):   \n",
    "\n",
    "        ##create the main window which is a tkinter object\n",
    "        self.main_window=tkinter.Tk()\n",
    "\n",
    "        ##enter the tkinter main loop to display the window  \n",
    "        self.main_window.title('My First GUI')\n",
    "\n",
    "        ##to display the window\n",
    "        tkinter.mainloop()\n",
    "\n",
    "my_gui=GUI()"
   ]
  }
 ],
 "metadata": {
  "language_info": {
   "name": "python"
  },
  "orig_nbformat": 4
 },
 "nbformat": 4,
 "nbformat_minor": 2
}
